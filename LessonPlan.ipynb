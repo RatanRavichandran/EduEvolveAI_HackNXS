{
  "nbformat": 4,
  "nbformat_minor": 0,
  "metadata": {
    "colab": {
      "provenance": []
    },
    "kernelspec": {
      "name": "python3",
      "display_name": "Python 3"
    },
    "language_info": {
      "name": "python"
    }
  },
  "cells": [
    {
      "cell_type": "code",
      "source": [
        "!pip install langchain openai gradio"
      ],
      "metadata": {
        "colab": {
          "base_uri": "https://localhost:8080/"
        },
        "id": "tgWzSKoclyM7",
        "outputId": "241134a5-02b1-4a3c-9e79-9c40c8d41669"
      },
      "execution_count": null,
      "outputs": [
        {
          "output_type": "stream",
          "name": "stdout",
          "text": [
            "Requirement already satisfied: langchain in /usr/local/lib/python3.10/dist-packages (0.1.14)\n",
            "Requirement already satisfied: openai in /usr/local/lib/python3.10/dist-packages (1.16.2)\n",
            "Requirement already satisfied: gradio in /usr/local/lib/python3.10/dist-packages (4.25.0)\n",
            "Requirement already satisfied: PyYAML>=5.3 in /usr/local/lib/python3.10/dist-packages (from langchain) (6.0.1)\n",
            "Requirement already satisfied: SQLAlchemy<3,>=1.4 in /usr/local/lib/python3.10/dist-packages (from langchain) (2.0.29)\n",
            "Requirement already satisfied: aiohttp<4.0.0,>=3.8.3 in /usr/local/lib/python3.10/dist-packages (from langchain) (3.9.3)\n",
            "Requirement already satisfied: async-timeout<5.0.0,>=4.0.0 in /usr/local/lib/python3.10/dist-packages (from langchain) (4.0.3)\n",
            "Requirement already satisfied: dataclasses-json<0.7,>=0.5.7 in /usr/local/lib/python3.10/dist-packages (from langchain) (0.6.4)\n",
            "Requirement already satisfied: jsonpatch<2.0,>=1.33 in /usr/local/lib/python3.10/dist-packages (from langchain) (1.33)\n",
            "Requirement already satisfied: langchain-community<0.1,>=0.0.30 in /usr/local/lib/python3.10/dist-packages (from langchain) (0.0.31)\n",
            "Requirement already satisfied: langchain-core<0.2.0,>=0.1.37 in /usr/local/lib/python3.10/dist-packages (from langchain) (0.1.40)\n",
            "Requirement already satisfied: langchain-text-splitters<0.1,>=0.0.1 in /usr/local/lib/python3.10/dist-packages (from langchain) (0.0.1)\n",
            "Requirement already satisfied: langsmith<0.2.0,>=0.1.17 in /usr/local/lib/python3.10/dist-packages (from langchain) (0.1.40)\n",
            "Requirement already satisfied: numpy<2,>=1 in /usr/local/lib/python3.10/dist-packages (from langchain) (1.25.2)\n",
            "Requirement already satisfied: pydantic<3,>=1 in /usr/local/lib/python3.10/dist-packages (from langchain) (2.6.4)\n",
            "Requirement already satisfied: requests<3,>=2 in /usr/local/lib/python3.10/dist-packages (from langchain) (2.31.0)\n",
            "Requirement already satisfied: tenacity<9.0.0,>=8.1.0 in /usr/local/lib/python3.10/dist-packages (from langchain) (8.2.3)\n",
            "Requirement already satisfied: anyio<5,>=3.5.0 in /usr/local/lib/python3.10/dist-packages (from openai) (3.7.1)\n",
            "Requirement already satisfied: distro<2,>=1.7.0 in /usr/lib/python3/dist-packages (from openai) (1.7.0)\n",
            "Requirement already satisfied: httpx<1,>=0.23.0 in /usr/local/lib/python3.10/dist-packages (from openai) (0.27.0)\n",
            "Requirement already satisfied: sniffio in /usr/local/lib/python3.10/dist-packages (from openai) (1.3.1)\n",
            "Requirement already satisfied: tqdm>4 in /usr/local/lib/python3.10/dist-packages (from openai) (4.66.2)\n",
            "Requirement already satisfied: typing-extensions<5,>=4.7 in /usr/local/lib/python3.10/dist-packages (from openai) (4.10.0)\n",
            "Requirement already satisfied: aiofiles<24.0,>=22.0 in /usr/local/lib/python3.10/dist-packages (from gradio) (23.2.1)\n",
            "Requirement already satisfied: altair<6.0,>=4.2.0 in /usr/local/lib/python3.10/dist-packages (from gradio) (4.2.2)\n",
            "Requirement already satisfied: fastapi in /usr/local/lib/python3.10/dist-packages (from gradio) (0.110.1)\n",
            "Requirement already satisfied: ffmpy in /usr/local/lib/python3.10/dist-packages (from gradio) (0.3.2)\n",
            "Requirement already satisfied: gradio-client==0.15.0 in /usr/local/lib/python3.10/dist-packages (from gradio) (0.15.0)\n",
            "Requirement already satisfied: huggingface-hub>=0.19.3 in /usr/local/lib/python3.10/dist-packages (from gradio) (0.20.3)\n",
            "Requirement already satisfied: importlib-resources<7.0,>=1.3 in /usr/local/lib/python3.10/dist-packages (from gradio) (6.4.0)\n",
            "Requirement already satisfied: jinja2<4.0 in /usr/local/lib/python3.10/dist-packages (from gradio) (3.1.3)\n",
            "Requirement already satisfied: markupsafe~=2.0 in /usr/local/lib/python3.10/dist-packages (from gradio) (2.1.5)\n",
            "Requirement already satisfied: matplotlib~=3.0 in /usr/local/lib/python3.10/dist-packages (from gradio) (3.7.1)\n",
            "Requirement already satisfied: orjson~=3.0 in /usr/local/lib/python3.10/dist-packages (from gradio) (3.10.0)\n",
            "Requirement already satisfied: packaging in /usr/local/lib/python3.10/dist-packages (from gradio) (23.2)\n",
            "Requirement already satisfied: pandas<3.0,>=1.0 in /usr/local/lib/python3.10/dist-packages (from gradio) (2.0.3)\n",
            "Requirement already satisfied: pillow<11.0,>=8.0 in /usr/local/lib/python3.10/dist-packages (from gradio) (9.4.0)\n",
            "Requirement already satisfied: pydub in /usr/local/lib/python3.10/dist-packages (from gradio) (0.25.1)\n",
            "Requirement already satisfied: python-multipart>=0.0.9 in /usr/local/lib/python3.10/dist-packages (from gradio) (0.0.9)\n",
            "Requirement already satisfied: ruff>=0.2.2 in /usr/local/lib/python3.10/dist-packages (from gradio) (0.3.5)\n",
            "Requirement already satisfied: semantic-version~=2.0 in /usr/local/lib/python3.10/dist-packages (from gradio) (2.10.0)\n",
            "Requirement already satisfied: tomlkit==0.12.0 in /usr/local/lib/python3.10/dist-packages (from gradio) (0.12.0)\n",
            "Requirement already satisfied: typer[all]<1.0,>=0.9 in /usr/local/lib/python3.10/dist-packages (from gradio) (0.9.4)\n",
            "Requirement already satisfied: uvicorn>=0.14.0 in /usr/local/lib/python3.10/dist-packages (from gradio) (0.29.0)\n",
            "Requirement already satisfied: fsspec in /usr/local/lib/python3.10/dist-packages (from gradio-client==0.15.0->gradio) (2023.6.0)\n",
            "Requirement already satisfied: websockets<12.0,>=10.0 in /usr/local/lib/python3.10/dist-packages (from gradio-client==0.15.0->gradio) (11.0.3)\n",
            "Requirement already satisfied: aiosignal>=1.1.2 in /usr/local/lib/python3.10/dist-packages (from aiohttp<4.0.0,>=3.8.3->langchain) (1.3.1)\n",
            "Requirement already satisfied: attrs>=17.3.0 in /usr/local/lib/python3.10/dist-packages (from aiohttp<4.0.0,>=3.8.3->langchain) (23.2.0)\n",
            "Requirement already satisfied: frozenlist>=1.1.1 in /usr/local/lib/python3.10/dist-packages (from aiohttp<4.0.0,>=3.8.3->langchain) (1.4.1)\n",
            "Requirement already satisfied: multidict<7.0,>=4.5 in /usr/local/lib/python3.10/dist-packages (from aiohttp<4.0.0,>=3.8.3->langchain) (6.0.5)\n",
            "Requirement already satisfied: yarl<2.0,>=1.0 in /usr/local/lib/python3.10/dist-packages (from aiohttp<4.0.0,>=3.8.3->langchain) (1.9.4)\n",
            "Requirement already satisfied: entrypoints in /usr/local/lib/python3.10/dist-packages (from altair<6.0,>=4.2.0->gradio) (0.4)\n",
            "Requirement already satisfied: jsonschema>=3.0 in /usr/local/lib/python3.10/dist-packages (from altair<6.0,>=4.2.0->gradio) (4.19.2)\n",
            "Requirement already satisfied: toolz in /usr/local/lib/python3.10/dist-packages (from altair<6.0,>=4.2.0->gradio) (0.12.1)\n",
            "Requirement already satisfied: idna>=2.8 in /usr/local/lib/python3.10/dist-packages (from anyio<5,>=3.5.0->openai) (3.6)\n",
            "Requirement already satisfied: exceptiongroup in /usr/local/lib/python3.10/dist-packages (from anyio<5,>=3.5.0->openai) (1.2.0)\n",
            "Requirement already satisfied: marshmallow<4.0.0,>=3.18.0 in /usr/local/lib/python3.10/dist-packages (from dataclasses-json<0.7,>=0.5.7->langchain) (3.21.1)\n",
            "Requirement already satisfied: typing-inspect<1,>=0.4.0 in /usr/local/lib/python3.10/dist-packages (from dataclasses-json<0.7,>=0.5.7->langchain) (0.9.0)\n",
            "Requirement already satisfied: certifi in /usr/local/lib/python3.10/dist-packages (from httpx<1,>=0.23.0->openai) (2024.2.2)\n",
            "Requirement already satisfied: httpcore==1.* in /usr/local/lib/python3.10/dist-packages (from httpx<1,>=0.23.0->openai) (1.0.5)\n",
            "Requirement already satisfied: h11<0.15,>=0.13 in /usr/local/lib/python3.10/dist-packages (from httpcore==1.*->httpx<1,>=0.23.0->openai) (0.14.0)\n",
            "Requirement already satisfied: filelock in /usr/local/lib/python3.10/dist-packages (from huggingface-hub>=0.19.3->gradio) (3.13.3)\n",
            "Requirement already satisfied: jsonpointer>=1.9 in /usr/local/lib/python3.10/dist-packages (from jsonpatch<2.0,>=1.33->langchain) (2.4)\n",
            "Requirement already satisfied: contourpy>=1.0.1 in /usr/local/lib/python3.10/dist-packages (from matplotlib~=3.0->gradio) (1.2.0)\n",
            "Requirement already satisfied: cycler>=0.10 in /usr/local/lib/python3.10/dist-packages (from matplotlib~=3.0->gradio) (0.12.1)\n",
            "Requirement already satisfied: fonttools>=4.22.0 in /usr/local/lib/python3.10/dist-packages (from matplotlib~=3.0->gradio) (4.50.0)\n",
            "Requirement already satisfied: kiwisolver>=1.0.1 in /usr/local/lib/python3.10/dist-packages (from matplotlib~=3.0->gradio) (1.4.5)\n",
            "Requirement already satisfied: pyparsing>=2.3.1 in /usr/local/lib/python3.10/dist-packages (from matplotlib~=3.0->gradio) (3.1.2)\n",
            "Requirement already satisfied: python-dateutil>=2.7 in /usr/local/lib/python3.10/dist-packages (from matplotlib~=3.0->gradio) (2.8.2)\n",
            "Requirement already satisfied: pytz>=2020.1 in /usr/local/lib/python3.10/dist-packages (from pandas<3.0,>=1.0->gradio) (2023.4)\n",
            "Requirement already satisfied: tzdata>=2022.1 in /usr/local/lib/python3.10/dist-packages (from pandas<3.0,>=1.0->gradio) (2024.1)\n",
            "Requirement already satisfied: annotated-types>=0.4.0 in /usr/local/lib/python3.10/dist-packages (from pydantic<3,>=1->langchain) (0.6.0)\n",
            "Requirement already satisfied: pydantic-core==2.16.3 in /usr/local/lib/python3.10/dist-packages (from pydantic<3,>=1->langchain) (2.16.3)\n",
            "Requirement already satisfied: charset-normalizer<4,>=2 in /usr/local/lib/python3.10/dist-packages (from requests<3,>=2->langchain) (3.3.2)\n",
            "Requirement already satisfied: urllib3<3,>=1.21.1 in /usr/local/lib/python3.10/dist-packages (from requests<3,>=2->langchain) (2.0.7)\n",
            "Requirement already satisfied: greenlet!=0.4.17 in /usr/local/lib/python3.10/dist-packages (from SQLAlchemy<3,>=1.4->langchain) (3.0.3)\n",
            "Requirement already satisfied: click<9.0.0,>=7.1.1 in /usr/local/lib/python3.10/dist-packages (from typer[all]<1.0,>=0.9->gradio) (8.1.7)\n",
            "Requirement already satisfied: colorama<0.5.0,>=0.4.3 in /usr/local/lib/python3.10/dist-packages (from typer[all]<1.0,>=0.9->gradio) (0.4.6)\n",
            "Requirement already satisfied: shellingham<2.0.0,>=1.3.0 in /usr/local/lib/python3.10/dist-packages (from typer[all]<1.0,>=0.9->gradio) (1.5.4)\n",
            "Requirement already satisfied: rich<14.0.0,>=10.11.0 in /usr/local/lib/python3.10/dist-packages (from typer[all]<1.0,>=0.9->gradio) (13.7.1)\n",
            "Requirement already satisfied: starlette<0.38.0,>=0.37.2 in /usr/local/lib/python3.10/dist-packages (from fastapi->gradio) (0.37.2)\n",
            "Requirement already satisfied: jsonschema-specifications>=2023.03.6 in /usr/local/lib/python3.10/dist-packages (from jsonschema>=3.0->altair<6.0,>=4.2.0->gradio) (2023.12.1)\n",
            "Requirement already satisfied: referencing>=0.28.4 in /usr/local/lib/python3.10/dist-packages (from jsonschema>=3.0->altair<6.0,>=4.2.0->gradio) (0.34.0)\n",
            "Requirement already satisfied: rpds-py>=0.7.1 in /usr/local/lib/python3.10/dist-packages (from jsonschema>=3.0->altair<6.0,>=4.2.0->gradio) (0.18.0)\n",
            "Requirement already satisfied: six>=1.5 in /usr/local/lib/python3.10/dist-packages (from python-dateutil>=2.7->matplotlib~=3.0->gradio) (1.16.0)\n",
            "Requirement already satisfied: markdown-it-py>=2.2.0 in /usr/local/lib/python3.10/dist-packages (from rich<14.0.0,>=10.11.0->typer[all]<1.0,>=0.9->gradio) (3.0.0)\n",
            "Requirement already satisfied: pygments<3.0.0,>=2.13.0 in /usr/local/lib/python3.10/dist-packages (from rich<14.0.0,>=10.11.0->typer[all]<1.0,>=0.9->gradio) (2.16.1)\n",
            "Requirement already satisfied: mypy-extensions>=0.3.0 in /usr/local/lib/python3.10/dist-packages (from typing-inspect<1,>=0.4.0->dataclasses-json<0.7,>=0.5.7->langchain) (1.0.0)\n",
            "Requirement already satisfied: mdurl~=0.1 in /usr/local/lib/python3.10/dist-packages (from markdown-it-py>=2.2.0->rich<14.0.0,>=10.11.0->typer[all]<1.0,>=0.9->gradio) (0.1.2)\n"
          ]
        }
      ]
    },
    {
      "cell_type": "code",
      "source": [
        "!pip install tiktoken"
      ],
      "metadata": {
        "colab": {
          "base_uri": "https://localhost:8080/"
        },
        "id": "vP1BmnS5mqtz",
        "outputId": "81ee9641-ff79-467f-c0fa-01a38e85339b"
      },
      "execution_count": null,
      "outputs": [
        {
          "output_type": "stream",
          "name": "stdout",
          "text": [
            "Requirement already satisfied: tiktoken in /usr/local/lib/python3.10/dist-packages (0.6.0)\n",
            "Requirement already satisfied: regex>=2022.1.18 in /usr/local/lib/python3.10/dist-packages (from tiktoken) (2023.12.25)\n",
            "Requirement already satisfied: requests>=2.26.0 in /usr/local/lib/python3.10/dist-packages (from tiktoken) (2.31.0)\n",
            "Requirement already satisfied: charset-normalizer<4,>=2 in /usr/local/lib/python3.10/dist-packages (from requests>=2.26.0->tiktoken) (3.3.2)\n",
            "Requirement already satisfied: idna<4,>=2.5 in /usr/local/lib/python3.10/dist-packages (from requests>=2.26.0->tiktoken) (3.6)\n",
            "Requirement already satisfied: urllib3<3,>=1.21.1 in /usr/local/lib/python3.10/dist-packages (from requests>=2.26.0->tiktoken) (2.0.7)\n",
            "Requirement already satisfied: certifi>=2017.4.17 in /usr/local/lib/python3.10/dist-packages (from requests>=2.26.0->tiktoken) (2024.2.2)\n"
          ]
        }
      ]
    },
    {
      "cell_type": "code",
      "source": [
        "!pip install faiss-gpu"
      ],
      "metadata": {
        "colab": {
          "base_uri": "https://localhost:8080/"
        },
        "id": "oHwii-PKmzII",
        "outputId": "ba5536de-5890-48a0-addf-39e9d51b516a"
      },
      "execution_count": null,
      "outputs": [
        {
          "output_type": "stream",
          "name": "stdout",
          "text": [
            "Requirement already satisfied: faiss-gpu in /usr/local/lib/python3.10/dist-packages (1.7.2)\n"
          ]
        }
      ]
    },
    {
      "cell_type": "code",
      "source": [
        "import os\n",
        "from langchain.embeddings.openai import OpenAIEmbeddings\n",
        "from langchain.text_splitter import CharacterTextSplitter\n",
        "from langchain.vectorstores import FAISS\n",
        "from langchain.chains.question_answering import load_qa_chain\n",
        "from langchain.llms import OpenAI\n",
        "from langchain.prompts import PromptTemplate\n",
        "import tiktoken"
      ],
      "metadata": {
        "id": "igy2X0XklxH8"
      },
      "execution_count": null,
      "outputs": []
    },
    {
      "cell_type": "code",
      "source": [
        "# Get your API keys from openai, you will need to create an account.\n",
        "# Here is the link to get the keys: https://platform.openai.com/account/billing/overview\n",
        "import os\n",
        "from google.colab import userdata\n",
        "os.environ[\"OPENAI_API_KEY\"] = userdata.get('OpenAI')\n"
      ],
      "metadata": {
        "id": "g-Ti4yYbl1k7"
      },
      "execution_count": null,
      "outputs": []
    },
    {
      "cell_type": "code",
      "source": [
        "# Read the incorrect answers from the text file\n",
        "with open('incorrect_answers.txt', 'r') as file:\n",
        "    raw_text = file.read()\n",
        "# Split the text into smaller chunks\n",
        "text_splitter = CharacterTextSplitter(\n",
        "    separator=\"\\n\",\n",
        "    chunk_size=1000,\n",
        "    chunk_overlap=200,\n",
        "    length_function=len,\n",
        ")"
      ],
      "metadata": {
        "id": "ciT1Zo4nl3N9"
      },
      "execution_count": null,
      "outputs": []
    },
    {
      "cell_type": "code",
      "source": [
        "texts = text_splitter.split_text(raw_text)\n",
        "print(f\"Number of text chunks: {len(texts)}\")"
      ],
      "metadata": {
        "id": "PWuYJC6hl5c0",
        "colab": {
          "base_uri": "https://localhost:8080/"
        },
        "outputId": "b5c827bf-e5b5-4bf8-c4cf-b83a9a1d4809"
      },
      "execution_count": null,
      "outputs": [
        {
          "output_type": "stream",
          "name": "stdout",
          "text": [
            "Number of text chunks: 1\n"
          ]
        }
      ]
    },
    {
      "cell_type": "code",
      "source": [
        "# Set up the prompt template for identifying the main topics\n",
        "topic_identification_prompt_template = \"\"\"\n",
        "You are an education specialist whose job is to identify the main topics that a student is lacking in based on their incorrect answers.\n",
        "\n",
        "The context of the incorrect answers is as follows:\n",
        "{context}\n",
        "\n",
        "Based on the given context, identify the main topics that the student is struggling with. Provide a concise list of the topics.\n",
        "\n",
        "Topic 1:\n",
        "Topic 2:\n",
        "Topic 3:\n",
        "\"\"\"\n",
        "\n",
        "topic_identification_prompt = PromptTemplate(template=topic_identification_prompt_template, input_variables=[\"context\"])\n"
      ],
      "metadata": {
        "id": "dlZYdmhil9Gb"
      },
      "execution_count": null,
      "outputs": []
    },
    {
      "cell_type": "code",
      "source": [
        "# Download embeddings from OpenAI\n",
        "embeddings = OpenAIEmbeddings()\n",
        "docsearch = FAISS.from_texts(texts, embeddings)"
      ],
      "metadata": {
        "id": "okIV2Ddal_Xt"
      },
      "execution_count": null,
      "outputs": []
    },
    {
      "cell_type": "code",
      "source": [
        "# Set up the LLM and the chain\n",
        "llm = OpenAI(temperature=0.7)\n",
        "chain = load_qa_chain(llm, chain_type=\"stuff\")"
      ],
      "metadata": {
        "id": "F6NH3WSpmDDY"
      },
      "execution_count": null,
      "outputs": []
    },
    {
      "cell_type": "code",
      "source": [
        "# Identify the main topics the student is lacking in\n",
        "topics = []\n",
        "for text in texts:\n",
        "    query = topic_identification_prompt.format(context=text)\n",
        "    docs = docsearch.similarity_search(query)\n",
        "    result = chain.run(input_documents=docs, question=query)\n",
        "    topics.extend([topic.strip() for topic in result.split('\\n') if topic.strip()])\n",
        "topics = list(set(topics))\n",
        "print(\"Main topics the student is lacking in:\")\n",
        "for topic in topics:\n",
        "    print(f\"- {topic}\")"
      ],
      "metadata": {
        "colab": {
          "base_uri": "https://localhost:8080/"
        },
        "id": "hVnRXkjrmEEF",
        "outputId": "a737c83e-4bc7-4495-ed37-849c99b4bf4d"
      },
      "execution_count": null,
      "outputs": [
        {
          "output_type": "stream",
          "name": "stdout",
          "text": [
            "Main topics the student is lacking in:\n",
            "- I don't know.\n"
          ]
        }
      ]
    },
    {
      "cell_type": "code",
      "source": [
        "# Set up the prompt template for creating a tailored lesson plan\n",
        "lesson_plan_prompt_template = \"\"\"\n",
        "You are an experienced instructor who needs to create a tailored lesson plan for a student based on the main topics they are lacking in. Keep it brief.\n",
        "\n",
        "The main topics the student is struggling with are:\n",
        "\n",
        "{topics}\n",
        "\n",
        "Create a comprehensive lesson plan that covers these topics. The lesson plan should include the following sections:\n",
        "\n",
        "Lesson Objectives:\n",
        "\n",
        "Prerequisites:\n",
        "\n",
        "Lesson Outline:\n",
        "\n",
        "- Introduction (5-10 minutes)\n",
        "  - Overview of the lesson and its objectives\n",
        "- Topic 1 (20-30 minutes)\n",
        "  - Explanation of the topic\n",
        "  - Examples and practice exercises\n",
        "- Topic 2 (20-30 minutes)\n",
        "  - Explanation of the topic\n",
        "  - Examples and practice exercises\n",
        "- Topic 3 (20-30 minutes)\n",
        "  - Explanation of the topic\n",
        "  - Examples and practice exercises\n",
        "- Summary and Q&A (10-15 minutes)\n",
        "  - Review of the key concepts\n",
        "  - Opportunity for students to ask questions\n",
        "\n",
        "Teaching Strategies:\n",
        "\n",
        "Assessment and Evaluation Strategies:\n",
        "\n",
        "Make sure the lesson plan is tailored to the specific needs of the student based on the identified main topics. More importantly, make assumptions wherever needed.\n",
        "\"\"\""
      ],
      "metadata": {
        "id": "9BVirMHZmGlX"
      },
      "execution_count": null,
      "outputs": []
    },
    {
      "cell_type": "code",
      "source": [
        "lesson_plan_prompt = PromptTemplate(template=lesson_plan_prompt_template, input_variables=[\"topics\"])"
      ],
      "metadata": {
        "id": "TQdjjkjbmIdL"
      },
      "execution_count": null,
      "outputs": []
    },
    {
      "cell_type": "code",
      "source": [
        "# Generate the tailored lesson plan\n",
        "lesson_plan_query = lesson_plan_prompt.format(topics=\"\\n- \".join(topics))\n",
        "lesson_plan_docs = docsearch.similarity_search(lesson_plan_query)\n",
        "lesson_plan = chain.run(input_documents=lesson_plan_docs, question=lesson_plan_query)"
      ],
      "metadata": {
        "id": "t0tzN55mmJ4i"
      },
      "execution_count": null,
      "outputs": []
    },
    {
      "cell_type": "code",
      "execution_count": null,
      "metadata": {
        "colab": {
          "base_uri": "https://localhost:8080/"
        },
        "id": "C6Ulapb8luk7",
        "outputId": "34014e5b-09a9-4e84-ecef-6b5025c04e59"
      },
      "outputs": [
        {
          "output_type": "stream",
          "name": "stdout",
          "text": [
            "\n",
            "Tailored Lesson Plan:\n",
            "\n",
            "Lesson Objectives:\n",
            "- To understand the key concepts and principles of the main topics the student is struggling with\n",
            "- To be able to apply these concepts in practice exercises\n",
            "- To gain confidence in the topics and be able to ask questions for clarification\n",
            "\n",
            "Prerequisites:\n",
            "- Basic knowledge of the subject\n",
            "- Familiarity with the terminology and key concepts\n",
            "\n",
            "Lesson Outline:\n",
            "- Introduction (5-10 minutes)\n",
            "  - Brief overview of the lesson and its objectives\n",
            "  - Explanation of why these topics are important and how they relate to the overall subject\n",
            "- Topic 1 (20-30 minutes)\n",
            "  - Explanation of the topic with examples to demonstrate its importance and relevance\n",
            "  - Practice exercises to reinforce understanding\n",
            "- Topic 2 (20-30 minutes)\n",
            "  - Explanation of the topic with examples to demonstrate its importance and relevance\n",
            "  - Practice exercises to reinforce understanding\n",
            "- Topic 3 (20-30 minutes)\n",
            "  - Explanation of the topic with examples to demonstrate its importance and relevance\n",
            "  - Practice exercises to reinforce understanding\n",
            "- Summary and Q&A (10-15 minutes)\n",
            "  - Review of the key concepts and their application\n",
            "  - Opportunity for students to ask questions and clarify any doubts\n",
            "\n",
            "Teaching Strategies:\n",
            "- Use visual aids and real\n"
          ]
        }
      ],
      "source": [
        "print(\"\\nTailored Lesson Plan:\")\n",
        "print(lesson_plan)"
      ]
    },
    {
      "cell_type": "code",
      "source": [
        "import os\n",
        "import gradio as gr\n",
        "\n",
        "# Set up the prompt template for identifying the main topics\n",
        "topic_identification_prompt_template = \"\"\"\n",
        "You are an education specialist whose job is to identify the main topics that a student is lacking in based on their incorrect answers.\n",
        "\n",
        "The context of the incorrect answers is as follows:\n",
        "\n",
        "{context}\n",
        "\n",
        "Based on the given context, identify the main topics that the student is struggling with. Provide a concise list of the topics.\n",
        "\n",
        "Topic 1:\n",
        "\n",
        "Topic 2:\n",
        "\n",
        "Topic 3:\n",
        "\"\"\"\n",
        "\n",
        "topic_identification_prompt = PromptTemplate(template=topic_identification_prompt_template, input_variables=[\"context\"])\n",
        "\n",
        "# Set up the prompt template for creating a tailored lesson plan\n",
        "lesson_plan_prompt_template = \"\"\"\n",
        "You are an experienced instructor who needs to create a tailored lesson plan for a student based on the main topics they are lacking in. Keep it brief.\n",
        "\n",
        "The main topics the student is struggling with are:\n",
        "\n",
        "{topics}\n",
        "\n",
        "Create a comprehensive lesson plan that covers these topics. The lesson plan should include the following sections:\n",
        "\n",
        "Lesson Objectives:\n",
        "\n",
        "Prerequisites:\n",
        "\n",
        "Lesson Outline:\n",
        "\n",
        "- Introduction (5-10 minutes)\n",
        "  - Overview of the lesson and its objectives\n",
        "- Topic 1 (20-30 minutes)\n",
        "  - Explanation of the topic\n",
        "  - Examples and practice exercises\n",
        "- Topic 2 (20-30 minutes)\n",
        "  - Explanation of the topic\n",
        "  - Examples and practice exercises\n",
        "- Topic 3 (20-30 minutes)\n",
        "  - Explanation of the topic\n",
        "  - Examples and practice exercises\n",
        "- Summary and Q&A (10-15 minutes)\n",
        "  - Review of the key concepts\n",
        "  - Opportunity for students to ask questions\n",
        "\n",
        "Teaching Strategies:\n",
        "\n",
        "Assessment and Evaluation Strategies:\n",
        "\n",
        "Make sure the lesson plan is tailored to the specific needs of the student based on the identified main topics. More importantly, make assumptions wherever needed.\n",
        "\"\"\"\n",
        "\n",
        "lesson_plan_prompt = PromptTemplate(template=lesson_plan_prompt_template, input_variables=[\"topics\"])\n",
        "\n",
        "# Set up the LLM and the chain\n",
        "embeddings = OpenAIEmbeddings()\n",
        "docsearch = None\n",
        "llm = OpenAI(temperature=0.7)\n",
        "chain = load_qa_chain(llm, chain_type=\"stuff\")\n",
        "\n",
        "def generate_lesson_plan(file):\n",
        "    with open(\"incorrect_answers.txt\", \"w\") as f:\n",
        "        f.write(file)\n",
        "\n",
        "    with open(\"incorrect_answers.txt\", \"r\") as file:\n",
        "        raw_text = file.read()\n",
        "\n",
        "    # Split the text into smaller chunks\n",
        "    text_splitter = CharacterTextSplitter(\n",
        "        separator=\"\\n\",\n",
        "        chunk_size=1000,\n",
        "        chunk_overlap=200,\n",
        "        length_function=len,\n",
        "    )\n",
        "    texts = text_splitter.split_text(raw_text)\n",
        "    print(f\"Number of text chunks: {len(texts)}\")\n",
        "\n",
        "    # Download embeddings from OpenAI\n",
        "    global docsearch\n",
        "    docsearch = FAISS.from_texts(texts, embeddings)\n",
        "\n",
        "    # Identify the main topics the student is lacking in\n",
        "    topics = []\n",
        "    for text in texts:\n",
        "        query = topic_identification_prompt.format(context=text)\n",
        "        docs = docsearch.similarity_search(query)\n",
        "        result = chain.run(input_documents=docs, question=query)\n",
        "        topics.extend([topic.strip() for topic in result.split('\\n') if topic.strip()])\n",
        "    topics = list(set(topics))\n",
        "    print(\"Main topics the student is lacking in:\")\n",
        "    for topic in topics:\n",
        "        print(f\"- {topic}\")\n",
        "\n",
        "    # Generate the tailored lesson plan\n",
        "    lesson_plan_query = lesson_plan_prompt.format(topics=\"\\n- \".join(topics))\n",
        "    lesson_plan_docs = docsearch.similarity_search(lesson_plan_query)\n",
        "    lesson_plan = chain.run(input_documents=lesson_plan_docs, question=lesson_plan_query)\n",
        "\n",
        "    return lesson_plan\n",
        "\n",
        "# Create the Gradio interface\n",
        "with gr.Blocks() as demo:\n",
        "    with gr.Row():\n",
        "        with gr.Column():\n",
        "            file = gr.File(label=\"Incorrect Answers (upload 'incorrect_answers.txt')\")\n",
        "            submit_btn = gr.Button(\"Generate Lesson Plan\")\n",
        "        with gr.Column():\n",
        "            lesson_plan_output = gr.Textbox(label=\"Tailored Lesson Plan\", interactive=False)\n",
        "\n",
        "    submit_btn.click(generate_lesson_plan, inputs=file, outputs=lesson_plan_output)\n",
        "\n",
        "demo.launch()"
      ],
      "metadata": {
        "colab": {
          "base_uri": "https://localhost:8080/",
          "height": 645
        },
        "id": "wls0bcFnnIhG",
        "outputId": "b4c11bb2-7b5b-4b6f-c943-f97db79ae405"
      },
      "execution_count": null,
      "outputs": [
        {
          "output_type": "stream",
          "name": "stdout",
          "text": [
            "Setting queue=True in a Colab notebook requires sharing enabled. Setting `share=True` (you can turn this off by setting `share=False` in `launch()` explicitly).\n",
            "\n",
            "Colab notebook detected. To show errors in colab notebook, set debug=True in launch()\n",
            "Running on public URL: https://67cd72dd213727b8af.gradio.live\n",
            "\n",
            "This share link expires in 72 hours. For free permanent hosting and GPU upgrades, run `gradio deploy` from Terminal to deploy to Spaces (https://huggingface.co/spaces)\n"
          ]
        },
        {
          "output_type": "display_data",
          "data": {
            "text/plain": [
              "<IPython.core.display.HTML object>"
            ],
            "text/html": [
              "<div><iframe src=\"https://67cd72dd213727b8af.gradio.live\" width=\"100%\" height=\"500\" allow=\"autoplay; camera; microphone; clipboard-read; clipboard-write;\" frameborder=\"0\" allowfullscreen></iframe></div>"
            ]
          },
          "metadata": {}
        },
        {
          "output_type": "execute_result",
          "data": {
            "text/plain": []
          },
          "metadata": {},
          "execution_count": 35
        }
      ]
    },
    {
      "cell_type": "code",
      "source": [
        "!pip install gradio_client"
      ],
      "metadata": {
        "colab": {
          "base_uri": "https://localhost:8080/"
        },
        "id": "p92oLNesvcQ6",
        "outputId": "6441d809-5eb6-4244-e2de-b451b5b69cf5"
      },
      "execution_count": null,
      "outputs": [
        {
          "output_type": "stream",
          "name": "stdout",
          "text": [
            "Requirement already satisfied: gradio_client in /usr/local/lib/python3.10/dist-packages (0.15.0)\n",
            "Requirement already satisfied: fsspec in /usr/local/lib/python3.10/dist-packages (from gradio_client) (2023.6.0)\n",
            "Requirement already satisfied: httpx>=0.24.1 in /usr/local/lib/python3.10/dist-packages (from gradio_client) (0.27.0)\n",
            "Requirement already satisfied: huggingface-hub>=0.19.3 in /usr/local/lib/python3.10/dist-packages (from gradio_client) (0.20.3)\n",
            "Requirement already satisfied: packaging in /usr/local/lib/python3.10/dist-packages (from gradio_client) (23.2)\n",
            "Requirement already satisfied: typing-extensions~=4.0 in /usr/local/lib/python3.10/dist-packages (from gradio_client) (4.10.0)\n",
            "Requirement already satisfied: websockets<12.0,>=10.0 in /usr/local/lib/python3.10/dist-packages (from gradio_client) (11.0.3)\n",
            "Requirement already satisfied: anyio in /usr/local/lib/python3.10/dist-packages (from httpx>=0.24.1->gradio_client) (3.7.1)\n",
            "Requirement already satisfied: certifi in /usr/local/lib/python3.10/dist-packages (from httpx>=0.24.1->gradio_client) (2024.2.2)\n",
            "Requirement already satisfied: httpcore==1.* in /usr/local/lib/python3.10/dist-packages (from httpx>=0.24.1->gradio_client) (1.0.5)\n",
            "Requirement already satisfied: idna in /usr/local/lib/python3.10/dist-packages (from httpx>=0.24.1->gradio_client) (3.6)\n",
            "Requirement already satisfied: sniffio in /usr/local/lib/python3.10/dist-packages (from httpx>=0.24.1->gradio_client) (1.3.1)\n",
            "Requirement already satisfied: h11<0.15,>=0.13 in /usr/local/lib/python3.10/dist-packages (from httpcore==1.*->httpx>=0.24.1->gradio_client) (0.14.0)\n",
            "Requirement already satisfied: filelock in /usr/local/lib/python3.10/dist-packages (from huggingface-hub>=0.19.3->gradio_client) (3.13.3)\n",
            "Requirement already satisfied: requests in /usr/local/lib/python3.10/dist-packages (from huggingface-hub>=0.19.3->gradio_client) (2.31.0)\n",
            "Requirement already satisfied: tqdm>=4.42.1 in /usr/local/lib/python3.10/dist-packages (from huggingface-hub>=0.19.3->gradio_client) (4.66.2)\n",
            "Requirement already satisfied: pyyaml>=5.1 in /usr/local/lib/python3.10/dist-packages (from huggingface-hub>=0.19.3->gradio_client) (6.0.1)\n",
            "Requirement already satisfied: exceptiongroup in /usr/local/lib/python3.10/dist-packages (from anyio->httpx>=0.24.1->gradio_client) (1.2.0)\n",
            "Requirement already satisfied: charset-normalizer<4,>=2 in /usr/local/lib/python3.10/dist-packages (from requests->huggingface-hub>=0.19.3->gradio_client) (3.3.2)\n",
            "Requirement already satisfied: urllib3<3,>=1.21.1 in /usr/local/lib/python3.10/dist-packages (from requests->huggingface-hub>=0.19.3->gradio_client) (2.0.7)\n"
          ]
        }
      ]
    },
    {
      "cell_type": "code",
      "source": [
        "from gradio_client import Client, file\n",
        "\n",
        "client = Client(\"https://bb8f6c5a6f10b67bac.gradio.live/\")\n",
        "result = client.predict(\n",
        "\t\tfile=file('https://github.com/gradio-app/gradio/raw/main/test/test_files/sample_file.pdf'),\n",
        "\t\tapi_name=\"/generate_lesson_plan\"\n",
        ")\n",
        "print(result)"
      ],
      "metadata": {
        "colab": {
          "base_uri": "https://localhost:8080/"
        },
        "id": "fShC8MFovahf",
        "outputId": "37721bd0-b596-442b-df46-ba0453e85830"
      },
      "execution_count": null,
      "outputs": [
        {
          "output_type": "stream",
          "name": "stdout",
          "text": [
            "Loaded as API: https://bb8f6c5a6f10b67bac.gradio.live/ ✔\n",
            "Number of text chunks: 1\n",
            "Main topics the student is lacking in:\n",
            "- I don't know what topics the student is struggling with based on the given context.\n",
            "\n",
            "\n",
            "Lesson Objectives:\n",
            "- To understand the main topics that the student is lacking in\n",
            "- To improve the student's understanding and mastery of these topics\n",
            "- To provide opportunities for the student to practice and apply their knowledge\n",
            "\n",
            "Prerequisites:\n",
            "- Basic knowledge and understanding of the subject area\n",
            "- Familiarity with relevant vocabulary and terminology\n",
            "- Ability to follow instructions and participate in class activities\n",
            "\n",
            "Lesson Outline:\n",
            "- Introduction (5-10 minutes)\n",
            "  - Briefly discuss the main topics the student is struggling with\n",
            "  - Explain the importance of these topics and how they relate to the overall subject\n",
            "  - Set clear learning objectives for the lesson \n",
            "\n",
            "- Topic 1 (20-30 minutes)\n",
            "  - Explanation of the topic\n",
            "    - Use visual aids, real-life examples, and analogies to explain the topic in a clear and engaging manner\n",
            "    - Encourage active participation and ask questions to ensure understanding \n",
            "  - Practice exercises\n",
            "    - Provide a variety of exercises to cater to different learning styles (e.g. written, verbal, hands-on)\n",
            "    - Give feedback and corrections as needed \n",
            "    - Include real-world problems to demonstrate the practical application of the topic \n",
            "\n",
            "- Topic 2 (20-30 minutes)\n",
            "  - Explanation of the topic\n",
            "   \n"
          ]
        }
      ]
    }
  ]
}